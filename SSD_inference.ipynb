{
 "cells": [
  {
   "cell_type": "markdown",
   "metadata": {},
   "source": [
    "# SSD Inference Tutorial"
   ]
  },
  {
   "cell_type": "markdown",
   "metadata": {},
   "source": [
    "This a quick start for YOLK that shows how to use a trained Single-Shot MultiBox Detector(SSD) for inference on the Pascal VOC datasets."
   ]
  },
  {
   "cell_type": "code",
   "execution_count": null,
   "metadata": {},
   "outputs": [],
   "source": [
    "import numpy as np\n",
    "import matplotlib.pyplot as plt\n",
    "%matplotlib inline\n",
    "\n",
    "import keras\n",
    "from keras.optimizers import SGD\n",
    "\n",
    "import yolk"
   ]
  },
  {
   "cell_type": "markdown",
   "metadata": {},
   "source": [
    "## Step 1. Load a trained SSD\n",
    "`load_inference_model()` builds the model and load trained weights into it. <br>\n",
    "Get SSD loss with `get_losses()` and compile the model.\n",
    "\n",
    "------\n",
    "\n",
    "You can find a trained model weights link below.<br>\n",
    "https://github.com/pierluigiferrari/ssd_keras/<br>\n",
    "Or you can download weights directly here.<br>\n",
    "https://drive.google.com/file/d/1fyDDUcIOSjeiP08vl1WCndcFdtboFXua/view"
   ]
  },
  {
   "cell_type": "code",
   "execution_count": null,
   "metadata": {},
   "outputs": [],
   "source": [
    "model_path = 'VGG_VOC0712Plus_SSD_300x300_ft_iter_160000.h5'\n",
    "model = yolk.detector.load_inference_model(model_path)\n",
    "\n",
    "loss = yolk.detector.get_losses()\n",
    "sgd = SGD(learning_rate=0.001, momentum=0.9, decay=0.0, nesterov=False)\n",
    "\n",
    "model.compile(optimizer=sgd, loss=loss)"
   ]
  },
  {
   "cell_type": "markdown",
   "metadata": {},
   "source": [
    "## Step 2. Load images"
   ]
  },
  {
   "cell_type": "code",
   "execution_count": null,
   "metadata": {},
   "outputs": [],
   "source": [
    "image_path = 'examples/000000008021.jpg'\n",
    "image = yolk.detector.preprocessing_image(image_path)"
   ]
  },
  {
   "cell_type": "markdown",
   "metadata": {},
   "source": [
    "## Step 3. Make predictions\n",
    "You can also set a confidence threshold for your result."
   ]
  },
  {
   "cell_type": "code",
   "execution_count": null,
   "metadata": {},
   "outputs": [],
   "source": [
    "y_pred = model.predict(image)\n",
    "\n",
    "confidence_threshold = 0.5\n",
    "y_pred_thresh = [y_pred[k][y_pred[k,:,1] > confidence_threshold] for k in range(y_pred.shape[0])]\n",
    "np.set_printoptions(precision=2, suppress=True, linewidth=90)\n",
    "print(\"Predicted boxes:\\n\")\n",
    "print('   class   conf xmin   ymin   xmax   ymax')\n",
    "print(y_pred_thresh[0])"
   ]
  },
  {
   "cell_type": "markdown",
   "metadata": {},
   "source": [
    "## Step 4. Visualize the predictions"
   ]
  },
  {
   "cell_type": "code",
   "execution_count": null,
   "metadata": {},
   "outputs": [],
   "source": [
    "yolk.detector.show_result(image_path, y_pred_thresh)"
   ]
  }
 ],
 "metadata": {
  "kernelspec": {
   "display_name": "Python 3 (ipykernel)",
   "language": "python",
   "name": "python3"
  },
  "language_info": {
   "codemirror_mode": {
    "name": "ipython",
    "version": 3
   },
   "file_extension": ".py",
   "mimetype": "text/x-python",
   "name": "python",
   "nbconvert_exporter": "python",
   "pygments_lexer": "ipython3",
   "version": "3.10.7"
  }
 },
 "nbformat": 4,
 "nbformat_minor": 2
}
